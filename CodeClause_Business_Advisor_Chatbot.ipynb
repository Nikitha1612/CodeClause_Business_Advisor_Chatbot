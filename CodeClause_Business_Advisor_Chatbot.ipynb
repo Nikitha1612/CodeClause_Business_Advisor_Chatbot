{
  "cells": [
    {
      "cell_type": "markdown",
      "metadata": {
        "id": "o_RX9Cm3Rzci"
      },
      "source": [
        "**Data Science intern at CodeClause**\n",
        "\n",
        "**Golden Project : Business Advisor Chatbot**\n",
        "\n",
        "**Name : S Nikitha**"
      ]
    },
    {
      "cell_type": "code",
      "source": [
        "#install Natural Language Toolkit\n",
        "!pip install nltk scikit-learn"
      ],
      "metadata": {
        "colab": {
          "base_uri": "https://localhost:8080/"
        },
        "id": "6lSIYWgXlbr1",
        "outputId": "04dedf32-8f95-48a8-9355-1e12f737ff68"
      },
      "execution_count": 9,
      "outputs": [
        {
          "output_type": "stream",
          "name": "stdout",
          "text": [
            "Looking in indexes: https://pypi.org/simple, https://us-python.pkg.dev/colab-wheels/public/simple/\n",
            "Requirement already satisfied: nltk in /usr/local/lib/python3.10/dist-packages (3.8.1)\n",
            "Requirement already satisfied: scikit-learn in /usr/local/lib/python3.10/dist-packages (1.2.2)\n",
            "Requirement already satisfied: click in /usr/local/lib/python3.10/dist-packages (from nltk) (8.1.3)\n",
            "Requirement already satisfied: joblib in /usr/local/lib/python3.10/dist-packages (from nltk) (1.2.0)\n",
            "Requirement already satisfied: regex>=2021.8.3 in /usr/local/lib/python3.10/dist-packages (from nltk) (2022.10.31)\n",
            "Requirement already satisfied: tqdm in /usr/local/lib/python3.10/dist-packages (from nltk) (4.65.0)\n",
            "Requirement already satisfied: numpy>=1.17.3 in /usr/local/lib/python3.10/dist-packages (from scikit-learn) (1.22.4)\n",
            "Requirement already satisfied: scipy>=1.3.2 in /usr/local/lib/python3.10/dist-packages (from scikit-learn) (1.10.1)\n",
            "Requirement already satisfied: threadpoolctl>=2.0.0 in /usr/local/lib/python3.10/dist-packages (from scikit-learn) (3.1.0)\n"
          ]
        }
      ]
    },
    {
      "cell_type": "markdown",
      "metadata": {
        "id": "z5RQ43J5SgK7"
      },
      "source": [
        "**Importing Libraries**"
      ]
    },
    {
      "cell_type": "code",
      "execution_count": 10,
      "metadata": {
        "id": "-iEZ3iJfSv4b"
      },
      "outputs": [],
      "source": [
        "import nltk\n",
        "from nltk.corpus import stopwords\n",
        "from nltk.tokenize import word_tokenize\n",
        "from sklearn.feature_extraction.text import TfidfVectorizer\n",
        "from sklearn.svm import LinearSVC"
      ]
    },
    {
      "cell_type": "code",
      "execution_count": 11,
      "metadata": {
        "colab": {
          "base_uri": "https://localhost:8080/"
        },
        "id": "j3AveIQ3S-n7",
        "outputId": "0e396cbc-b4dc-44c4-b38d-4cf9540b3660"
      },
      "outputs": [
        {
          "output_type": "stream",
          "name": "stderr",
          "text": [
            "[nltk_data] Downloading package stopwords to /root/nltk_data...\n",
            "[nltk_data]   Package stopwords is already up-to-date!\n",
            "[nltk_data] Downloading package punkt to /root/nltk_data...\n",
            "[nltk_data]   Package punkt is already up-to-date!\n"
          ]
        },
        {
          "output_type": "execute_result",
          "data": {
            "text/plain": [
              "True"
            ]
          },
          "metadata": {},
          "execution_count": 11
        }
      ],
      "source": [
        "#download nltk dependencies\n",
        "nltk.download('stopwords')\n",
        "nltk.download('punkt')"
      ]
    },
    {
      "cell_type": "markdown",
      "metadata": {
        "id": "dmwrV1hKhgca"
      },
      "source": [
        "**Training the chatbot**"
      ]
    },
    {
      "cell_type": "code",
      "execution_count": 18,
      "metadata": {
        "id": "mbTFVjIBTgJR"
      },
      "outputs": [],
      "source": [
        "training_data = [\n",
        "    (\"What marketing strategies should I use for my startup?\", \"marketing\"),\n",
        "    (\"How can I improve customer engagement?\", \"customer_engagement\"),\n",
        "    (\"What are some effective ways to increase sales?\", \"sales\"),\n",
        "    (\"Bye\", \"bye\")\n",
        "]"
      ]
    },
    {
      "cell_type": "markdown",
      "source": [
        "**Preprocessing the training data**"
      ],
      "metadata": {
        "id": "OUoc_K_01MTo"
      }
    },
    {
      "cell_type": "code",
      "execution_count": 19,
      "metadata": {
        "id": "HlKWplaJh0xI"
      },
      "outputs": [],
      "source": [
        "stop_words = set(stopwords.words('english'))\n",
        "\n",
        "tokenized_data = []\n",
        "labels = []\n",
        "for sentence, label in training_data:\n",
        "    word_tokens = word_tokenize(sentence.lower())\n",
        "    filtered_sentence = [word for word in word_tokens if word.isalnum() and word not in stop_words]\n",
        "    tokenized_data.append(\" \".join(filtered_sentence))\n",
        "    labels.append(label)\n",
        "\n",
        "# Extract features using TF-IDF vectorization\n",
        "vectorizer = TfidfVectorizer()\n",
        "features = vectorizer.fit_transform(tokenized_data)"
      ]
    },
    {
      "cell_type": "markdown",
      "source": [
        "**Training a machine learning model**"
      ],
      "metadata": {
        "id": "_elynONG1V06"
      }
    },
    {
      "cell_type": "code",
      "execution_count": 20,
      "metadata": {
        "colab": {
          "base_uri": "https://localhost:8080/",
          "height": 74
        },
        "id": "Yfxn7XhCiAkb",
        "outputId": "c885f4fa-2237-4cc7-fa22-b7c96a2cb091"
      },
      "outputs": [
        {
          "output_type": "execute_result",
          "data": {
            "text/plain": [
              "LinearSVC()"
            ],
            "text/html": [
              "<style>#sk-container-id-2 {color: black;background-color: white;}#sk-container-id-2 pre{padding: 0;}#sk-container-id-2 div.sk-toggleable {background-color: white;}#sk-container-id-2 label.sk-toggleable__label {cursor: pointer;display: block;width: 100%;margin-bottom: 0;padding: 0.3em;box-sizing: border-box;text-align: center;}#sk-container-id-2 label.sk-toggleable__label-arrow:before {content: \"▸\";float: left;margin-right: 0.25em;color: #696969;}#sk-container-id-2 label.sk-toggleable__label-arrow:hover:before {color: black;}#sk-container-id-2 div.sk-estimator:hover label.sk-toggleable__label-arrow:before {color: black;}#sk-container-id-2 div.sk-toggleable__content {max-height: 0;max-width: 0;overflow: hidden;text-align: left;background-color: #f0f8ff;}#sk-container-id-2 div.sk-toggleable__content pre {margin: 0.2em;color: black;border-radius: 0.25em;background-color: #f0f8ff;}#sk-container-id-2 input.sk-toggleable__control:checked~div.sk-toggleable__content {max-height: 200px;max-width: 100%;overflow: auto;}#sk-container-id-2 input.sk-toggleable__control:checked~label.sk-toggleable__label-arrow:before {content: \"▾\";}#sk-container-id-2 div.sk-estimator input.sk-toggleable__control:checked~label.sk-toggleable__label {background-color: #d4ebff;}#sk-container-id-2 div.sk-label input.sk-toggleable__control:checked~label.sk-toggleable__label {background-color: #d4ebff;}#sk-container-id-2 input.sk-hidden--visually {border: 0;clip: rect(1px 1px 1px 1px);clip: rect(1px, 1px, 1px, 1px);height: 1px;margin: -1px;overflow: hidden;padding: 0;position: absolute;width: 1px;}#sk-container-id-2 div.sk-estimator {font-family: monospace;background-color: #f0f8ff;border: 1px dotted black;border-radius: 0.25em;box-sizing: border-box;margin-bottom: 0.5em;}#sk-container-id-2 div.sk-estimator:hover {background-color: #d4ebff;}#sk-container-id-2 div.sk-parallel-item::after {content: \"\";width: 100%;border-bottom: 1px solid gray;flex-grow: 1;}#sk-container-id-2 div.sk-label:hover label.sk-toggleable__label {background-color: #d4ebff;}#sk-container-id-2 div.sk-serial::before {content: \"\";position: absolute;border-left: 1px solid gray;box-sizing: border-box;top: 0;bottom: 0;left: 50%;z-index: 0;}#sk-container-id-2 div.sk-serial {display: flex;flex-direction: column;align-items: center;background-color: white;padding-right: 0.2em;padding-left: 0.2em;position: relative;}#sk-container-id-2 div.sk-item {position: relative;z-index: 1;}#sk-container-id-2 div.sk-parallel {display: flex;align-items: stretch;justify-content: center;background-color: white;position: relative;}#sk-container-id-2 div.sk-item::before, #sk-container-id-2 div.sk-parallel-item::before {content: \"\";position: absolute;border-left: 1px solid gray;box-sizing: border-box;top: 0;bottom: 0;left: 50%;z-index: -1;}#sk-container-id-2 div.sk-parallel-item {display: flex;flex-direction: column;z-index: 1;position: relative;background-color: white;}#sk-container-id-2 div.sk-parallel-item:first-child::after {align-self: flex-end;width: 50%;}#sk-container-id-2 div.sk-parallel-item:last-child::after {align-self: flex-start;width: 50%;}#sk-container-id-2 div.sk-parallel-item:only-child::after {width: 0;}#sk-container-id-2 div.sk-dashed-wrapped {border: 1px dashed gray;margin: 0 0.4em 0.5em 0.4em;box-sizing: border-box;padding-bottom: 0.4em;background-color: white;}#sk-container-id-2 div.sk-label label {font-family: monospace;font-weight: bold;display: inline-block;line-height: 1.2em;}#sk-container-id-2 div.sk-label-container {text-align: center;}#sk-container-id-2 div.sk-container {/* jupyter's `normalize.less` sets `[hidden] { display: none; }` but bootstrap.min.css set `[hidden] { display: none !important; }` so we also need the `!important` here to be able to override the default hidden behavior on the sphinx rendered scikit-learn.org. See: https://github.com/scikit-learn/scikit-learn/issues/21755 */display: inline-block !important;position: relative;}#sk-container-id-2 div.sk-text-repr-fallback {display: none;}</style><div id=\"sk-container-id-2\" class=\"sk-top-container\"><div class=\"sk-text-repr-fallback\"><pre>LinearSVC()</pre><b>In a Jupyter environment, please rerun this cell to show the HTML representation or trust the notebook. <br />On GitHub, the HTML representation is unable to render, please try loading this page with nbviewer.org.</b></div><div class=\"sk-container\" hidden><div class=\"sk-item\"><div class=\"sk-estimator sk-toggleable\"><input class=\"sk-toggleable__control sk-hidden--visually\" id=\"sk-estimator-id-2\" type=\"checkbox\" checked><label for=\"sk-estimator-id-2\" class=\"sk-toggleable__label sk-toggleable__label-arrow\">LinearSVC</label><div class=\"sk-toggleable__content\"><pre>LinearSVC()</pre></div></div></div></div></div>"
            ]
          },
          "metadata": {},
          "execution_count": 20
        }
      ],
      "source": [
        "classifier = LinearSVC()\n",
        "classifier.fit(features, labels)"
      ]
    },
    {
      "cell_type": "markdown",
      "source": [
        "**Implementing the Chatbot logic**"
      ],
      "metadata": {
        "id": "F25aol2d1hBZ"
      }
    },
    {
      "cell_type": "code",
      "source": [
        "#start the chat\n",
        "print('I am your business advisor for short . I will answer your queries about our services . If you want to exit, then type bye')\n",
        "# Main loop\n",
        "while True:\n",
        "    # Get user input\n",
        "    user_input = input('User: ')\n",
        "\n",
        "    # Preprocess user input\n",
        "    user_tokens = word_tokenize(user_input.lower())\n",
        "    user_tokens = [word for word in user_tokens if word.isalnum() and word not in stop_words]\n",
        "    processed_input = \" \".join(user_tokens)\n",
        "\n",
        "    # Extract features for user input\n",
        "    input_features = vectorizer.transform([processed_input])\n",
        "\n",
        "    # Predict the label for user input\n",
        "    predicted_label = classifier.predict(input_features)[0]\n",
        "\n",
        "    # Provide advice based on the predicted label\n",
        "    if  predicted_label == 'bye':\n",
        "        bot_response = 'Chat with you later!'\n",
        "        break\n",
        "    else:\n",
        "        if predicted_label == \"marketing\":\n",
        "            bot_response = \"You should consider using social media marketing and content marketing strategies.\"\n",
        "        elif predicted_label == \"customer_engagement\":\n",
        "            bot_response = \"Focus on building strong customer relationships and providing excellent customer service.\"\n",
        "        elif predicted_label == \"sales\":\n",
        "            bot_response = \"Try implementing targeted sales campaigns and optimizing your sales processes.\"\n",
        "        else:\n",
        "            bot_response = \"I'm sorry, I couldn't understand your question.\"\n",
        "\n",
        "\n",
        "    # Print the chatbot's response\n",
        "    print('Bot:', bot_response)\n"
      ],
      "metadata": {
        "id": "pUW8LsEx-i9R",
        "outputId": "3cc5d92c-a6da-4ff2-d9a1-13b7687954e4",
        "colab": {
          "base_uri": "https://localhost:8080/"
        }
      },
      "execution_count": 26,
      "outputs": [
        {
          "name": "stdout",
          "output_type": "stream",
          "text": [
            "I am your business advisor for short . I will answer your queries about our services . If you want to exit, then type bye\n",
            "User: how can i improve my customers\n",
            "Bot: Focus on building strong customer relationships and providing excellent customer service.\n",
            "User: Suggest some marketing strategies\n",
            "Bot: You should consider using social media marketing and content marketing strategies.\n",
            "User: how can i increase my sales\n",
            "Bot: Try implementing targeted sales campaigns and optimizing your sales processes.\n",
            "User: bye\n"
          ]
        }
      ]
    }
  ],
  "metadata": {
    "colab": {
      "provenance": []
    },
    "kernelspec": {
      "display_name": "Python 3",
      "name": "python3"
    },
    "language_info": {
      "name": "python"
    }
  },
  "nbformat": 4,
  "nbformat_minor": 0
}